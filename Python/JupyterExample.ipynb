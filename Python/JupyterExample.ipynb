{
 "cells": [
  {
   "cell_type": "code",
   "execution_count": 1,
   "metadata": {},
   "outputs": [],
   "source": [
    "import networkx as nx\n",
    "from FeynmanFinder import *"
   ]
  },
  {
   "cell_type": "code",
   "execution_count": 2,
   "metadata": {},
   "outputs": [],
   "source": [
    "# Define graph\n",
    "graph = nx.DiGraph()\n",
    "graph.add_nodes_from(['0','i','j'])\n",
    "graph.add_edge('0','i')\n",
    "graph.add_edge('0','j')\n",
    "\n",
    "# graph = nx.DiGraph()\n",
    "# graph.add_nodes_from(['0','i','j','2'])\n",
    "# graph.add_edge('0','i')\n",
    "# graph.add_edge('0','j')\n",
    "# graph.add_edge('i','2')\n",
    "# graph.add_edge('j','2')"
   ]
  },
  {
   "cell_type": "code",
   "execution_count": 3,
   "metadata": {},
   "outputs": [],
   "source": [
    "# Imports for graph visualization.\n",
    "from networkx.drawing.nx_agraph import write_dot, graphviz_layout\n",
    "import matplotlib.pyplot as plt"
   ]
  },
  {
   "cell_type": "code",
   "execution_count": 4,
   "metadata": {},
   "outputs": [
    {
     "name": "stderr",
     "output_type": "stream",
     "text": [
      "/opt/anaconda3/lib/python3.7/site-packages/networkx/drawing/nx_pylab.py:579: MatplotlibDeprecationWarning: \n",
      "The iterable function was deprecated in Matplotlib 3.1 and will be removed in 3.3. Use np.iterable instead.\n",
      "  if not cb.iterable(width):\n",
      "/opt/anaconda3/lib/python3.7/site-packages/networkx/drawing/nx_pylab.py:676: MatplotlibDeprecationWarning: \n",
      "The iterable function was deprecated in Matplotlib 3.1 and will be removed in 3.3. Use np.iterable instead.\n",
      "  if cb.iterable(node_size):  # many node sizes\n"
     ]
    },
    {
     "data": {
      "image/png": "[encoded data removed]",
      "text/plain": [
       "<Figure size 720x576 with 1 Axes>"
      ]
     },
     "metadata": {},
     "output_type": "display_data"
    }
   ],
   "source": [
    "# Graph visualization (optional). Requires graphviz.\n",
    "fig, ax = plt.subplots(1, figsize=(10,8))\n",
    "pos =graphviz_layout(graph, prog='dot')\n",
    "nx.draw(graph, pos, with_labels=True, arrows=True)\n",
    "plt.gca().invert_yaxis()"
   ]
  },
  {
   "cell_type": "code",
   "execution_count": 5,
   "metadata": {},
   "outputs": [
    {
     "data": {
      "text/plain": [
       "[{'ket': ['0', '0', 'i', 'i', '0'],\n",
       "  'bra': ['0', 'i', 'i', '0', '0'],\n",
       "  'sign': [-1, 1, 1, -1],\n",
       "  'side': [-1, 1, -1, 1]},\n",
       " {'ket': ['0', '0', 'j', 'j', '0'],\n",
       "  'bra': ['0', 'i', 'i', '0', '0'],\n",
       "  'sign': [-1, 1, 1, -1],\n",
       "  'side': [-1, 1, -1, 1]},\n",
       " {'ket': ['0', '0', '0', 'i', '0'],\n",
       "  'bra': ['0', 'i', '0', '0', '0'],\n",
       "  'sign': [-1, 1, 1, -1],\n",
       "  'side': [-1, -1, 1, 1]},\n",
       " {'ket': ['0', '0', '0', 'j', '0'],\n",
       "  'bra': ['0', 'i', '0', '0', '0'],\n",
       "  'sign': [-1, 1, 1, -1],\n",
       "  'side': [-1, -1, 1, 1]},\n",
       " {'ket': ['0', '0', 'i', 'i', '0'],\n",
       "  'bra': ['0', 'j', 'j', '0', '0'],\n",
       "  'sign': [-1, 1, 1, -1],\n",
       "  'side': [-1, 1, -1, 1]},\n",
       " {'ket': ['0', '0', 'j', 'j', '0'],\n",
       "  'bra': ['0', 'j', 'j', '0', '0'],\n",
       "  'sign': [-1, 1, 1, -1],\n",
       "  'side': [-1, 1, -1, 1]},\n",
       " {'ket': ['0', '0', '0', 'i', '0'],\n",
       "  'bra': ['0', 'j', '0', '0', '0'],\n",
       "  'sign': [-1, 1, 1, -1],\n",
       "  'side': [-1, -1, 1, 1]},\n",
       " {'ket': ['0', '0', '0', 'j', '0'],\n",
       "  'bra': ['0', 'j', '0', '0', '0'],\n",
       "  'sign': [-1, 1, 1, -1],\n",
       "  'side': [-1, -1, 1, 1]}]"
      ]
     },
     "execution_count": 5,
     "metadata": {},
     "output_type": "execute_result"
    }
   ],
   "source": [
    "# Find diagrams\n",
    "eta = [-1,1,1,-1]\n",
    "feyn = FeynmanFinderFunc('0','0',graph,eta)\n",
    "feyn"
   ]
  },
  {
   "cell_type": "code",
   "execution_count": 6,
   "metadata": {},
   "outputs": [
    {
     "name": "stdout",
     "output_type": "stream",
     "text": [
      " |0><0| \n",
      "\\|i><0| \n",
      " |i><i|/\n",
      "/|0><i| \n",
      " |0><0|\\\n",
      " \n",
      " |0><0| \n",
      "\\|j><0| \n",
      " |j><i|/\n",
      "/|0><i| \n",
      " |0><0|\\\n",
      " \n",
      " |0><0| \n",
      "\\|i><0| \n",
      "/|0><0| \n",
      " |0><i|/\n",
      " |0><0|\\\n",
      " \n",
      " |0><0| \n",
      "\\|j><0| \n",
      "/|0><0| \n",
      " |0><i|/\n",
      " |0><0|\\\n",
      " \n",
      " |0><0| \n",
      "\\|i><0| \n",
      " |i><j|/\n",
      "/|0><j| \n",
      " |0><0|\\\n",
      " \n",
      " |0><0| \n",
      "\\|j><0| \n",
      " |j><j|/\n",
      "/|0><j| \n",
      " |0><0|\\\n",
      " \n",
      " |0><0| \n",
      "\\|i><0| \n",
      "/|0><0| \n",
      " |0><j|/\n",
      " |0><0|\\\n",
      " \n",
      " |0><0| \n",
      "\\|j><0| \n",
      "/|0><0| \n",
      " |0><j|/\n",
      " |0><0|\\\n",
      " \n"
     ]
    }
   ],
   "source": [
    "#Print diagrams\n",
    "PrintFeynman(feyn)"
   ]
  },
  {
   "cell_type": "code",
   "execution_count": null,
   "metadata": {},
   "outputs": [],
   "source": []
  }
 ],
 "metadata": {
  "@webio": {
   "lastCommId": null,
   "lastKernelId": null
  },
  "kernelspec": {
   "display_name": "Python 3",
   "language": "python",
   "name": "python3"
  },
  "language_info": {
   "codemirror_mode": {
    "name": "ipython",
    "version": 3
   },
   "file_extension": ".py",
   "mimetype": "text/x-python",
   "name": "python",
   "nbconvert_exporter": "python",
   "pygments_lexer": "ipython3",
   "version": "3.7.4"
  }
 },
 "nbformat": 4,
 "nbformat_minor": 2
}
